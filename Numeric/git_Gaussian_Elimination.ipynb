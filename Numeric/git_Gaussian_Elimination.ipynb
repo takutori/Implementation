{
 "cells": [
  {
   "cell_type": "code",
   "execution_count": 93,
   "metadata": {},
   "outputs": [],
   "source": [
    "import numpy as np\n",
    "import pdb\n",
    "\n",
    "def Gausu_erase(A,b):\n",
    "    #Argumented matrix\n",
    "    Argumented = np.concatenate((A,b),axis=1)\n",
    "    N = len(A)\n",
    "    X = np.zeros((1,N)).T\n",
    "    #progress eliminate\n",
    "    for k in range(N):\n",
    "        Argumented[k,:] = Argumented[k,:]/Argumented[k,k]\n",
    "        for i in range(k+1,N,1):\n",
    "            Argumented[i,:] = Argumented[i,:] - Argumented[i,k]*Argumented[k,:]\n",
    "    for n in range(N-1,-1,-1):\n",
    "        X[n,0] = Argumented[n,N]\n",
    "        for m in range(n+1,N,1):\n",
    "            X[n,0] = X[n,0] - Argumented[n,m]*X[m,0] \n",
    "    #Recession eliminate\n",
    "    return X"
   ]
  },
  {
   "cell_type": "code",
   "execution_count": 86,
   "metadata": {},
   "outputs": [
    {
     "name": "stdout",
     "output_type": "stream",
     "text": [
      "> <ipython-input-85-ca0d899e0eaf>(18)Gausu_erase()\n",
      "-> X[n,0] = X[n,0] - Argumented[n,m]*X[m,0]\n",
      "(Pdb) c\n",
      "> <ipython-input-85-ca0d899e0eaf>(17)Gausu_erase()\n",
      "-> pdb.set_trace()\n",
      "(Pdb) c\n",
      "> <ipython-input-85-ca0d899e0eaf>(18)Gausu_erase()\n",
      "-> X[n,0] = X[n,0] - Argumented[n,m]*X[m,0]\n",
      "(Pdb) c\n"
     ]
    },
    {
     "data": {
      "text/plain": [
       "array([[ 7.],\n",
       "       [-2.],\n",
       "       [ 6.]])"
      ]
     },
     "execution_count": 86,
     "metadata": {},
     "output_type": "execute_result"
    }
   ],
   "source": [
    "A = np.array([[-3.0,4.0,5.0],[1.0,0.0,-2.0],[2.0,7.0,-1.0]])\n",
    "b = np.array([[1.0,-5.0,-6.0]]).T\n",
    "Gausu_erase(A,b)"
   ]
  },
  {
   "cell_type": "code",
   "execution_count": 91,
   "metadata": {},
   "outputs": [],
   "source": [
    "A_Numeric_report = np.array([[1.0,2.0,3.0,4.0],[1.0,4.0,9.0,16.0],[1.0,8.0,27.0,64.0],\n",
    "                            [1.0,16.0,81.0,256.0]])\n",
    "b_go = np.array([[0.0,5.0,1.0,0.0]]).T"
   ]
  },
  {
   "cell_type": "code",
   "execution_count": 94,
   "metadata": {},
   "outputs": [
    {
     "data": {
      "text/plain": [
       "array([[-20.16666667],\n",
       "       [ 21.75      ],\n",
       "       [-10.5       ],\n",
       "       [  2.04166667]])"
      ]
     },
     "execution_count": 94,
     "metadata": {},
     "output_type": "execute_result"
    }
   ],
   "source": [
    "Gausu_erase(A_Numeric_report,b_go)"
   ]
  },
  {
   "cell_type": "code",
   "execution_count": 97,
   "metadata": {},
   "outputs": [],
   "source": [
    "b_sobaji = np.array([[0.0,5.0,5.0,3.0]]).T"
   ]
  },
  {
   "cell_type": "code",
   "execution_count": 98,
   "metadata": {},
   "outputs": [
    {
     "data": {
      "text/plain": [
       "array([[-14.66666667],\n",
       "       [ 14.5       ],\n",
       "       [ -6.33333333],\n",
       "       [  1.16666667]])"
      ]
     },
     "execution_count": 98,
     "metadata": {},
     "output_type": "execute_result"
    }
   ],
   "source": [
    "Gausu_erase(A_Numeric_report,b_sobaji)"
   ]
  },
  {
   "cell_type": "code",
   "execution_count": null,
   "metadata": {},
   "outputs": [],
   "source": []
  }
 ],
 "metadata": {
  "kernelspec": {
   "display_name": "Python 3",
   "language": "python",
   "name": "python3"
  },
  "language_info": {
   "codemirror_mode": {
    "name": "ipython",
    "version": 3
   },
   "file_extension": ".py",
   "mimetype": "text/x-python",
   "name": "python",
   "nbconvert_exporter": "python",
   "pygments_lexer": "ipython3",
   "version": "3.6.5"
  }
 },
 "nbformat": 4,
 "nbformat_minor": 2
}
